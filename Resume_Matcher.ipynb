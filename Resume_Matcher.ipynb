{
  "nbformat": 4,
  "nbformat_minor": 0,
  "metadata": {
    "colab": {
      "provenance": []
    },
    "kernelspec": {
      "name": "python3",
      "display_name": "Python 3"
    },
    "language_info": {
      "name": "python"
    }
  },
  "cells": [
    {
      "cell_type": "code",
      "execution_count": null,
      "metadata": {
        "colab": {
          "base_uri": "https://localhost:8080/"
        },
        "id": "82w13EipvkB1",
        "outputId": "9a44b5b4-4592-430b-d3ea-86cd08957dfb"
      },
      "outputs": [
        {
          "output_type": "stream",
          "name": "stdout",
          "text": [
            "Looking in indexes: https://pypi.org/simple, https://us-python.pkg.dev/colab-wheels/public/simple/\n",
            "Collecting docx2txt\n",
            "  Downloading docx2txt-0.8.tar.gz (2.8 kB)\n",
            "  Preparing metadata (setup.py) ... \u001b[?25l\u001b[?25hdone\n",
            "Building wheels for collected packages: docx2txt\n",
            "  Building wheel for docx2txt (setup.py) ... \u001b[?25l\u001b[?25hdone\n",
            "  Created wheel for docx2txt: filename=docx2txt-0.8-py3-none-any.whl size=3957 sha256=7a813c856bb49ceee3e45f1680e8c04a1cd6240ad05dfe5fdaa918402f3c309b\n",
            "  Stored in directory: /root/.cache/pip/wheels/22/58/cf/093d0a6c3ecfdfc5f6ddd5524043b88e59a9a199cb02352966\n",
            "Successfully built docx2txt\n",
            "Installing collected packages: docx2txt\n",
            "Successfully installed docx2txt-0.8\n"
          ]
        }
      ],
      "source": [
        "!pip install docx2txt"
      ]
    },
    {
      "cell_type": "code",
      "source": [
        "import docx2txt"
      ],
      "metadata": {
        "id": "dmmpGh6dvuoG"
      },
      "execution_count": null,
      "outputs": []
    },
    {
      "cell_type": "code",
      "source": [
        "job_description =docx2txt.process('/content/RACHIT CV (4).docx')\n",
        "resume =docx2txt.process('/content/CV (Resume).docx')"
      ],
      "metadata": {
        "id": "vGBSf3SUwRSB"
      },
      "execution_count": null,
      "outputs": []
    },
    {
      "cell_type": "code",
      "source": [
        "print(resume)"
      ],
      "metadata": {
        "colab": {
          "base_uri": "https://localhost:8080/"
        },
        "id": "x3pmLRJVxMDl",
        "outputId": "4417f0c8-9706-4d9f-f530-12e6fe40b0c4"
      },
      "execution_count": null,
      "outputs": [
        {
          "output_type": "stream",
          "name": "stdout",
          "text": [
            "RACHIT RANJAN\n",
            "\n",
            "8102439443 ⋄ Patna,Bihar  \n",
            "\n",
            "Mail id:rachitranjan251@gmail.com\n",
            "\n",
            "EDUCATION\n",
            "\n",
            "\tIndian Institute of Technology,Patna       \n",
            "\n",
            "\tBachelor of Technology in Metallurgical and Materials Engineering                 2021-2025 (Expected)  \n",
            "\n",
            "\t\n",
            "\n",
            "\tShivam International School,Fatua,Patna                                                                  Percentage  - 92.4%\n",
            "\n",
            "\tSenior Secondary,CBSE                                                                                                     2018-2020                                                                                               \n",
            "\n",
            "\t\n",
            "\n",
            "\tShivam International School,Fatua,Patna                                                                  Percentage  - 89.8%\n",
            "\n",
            "\t   10th,CBSE                                                                                                                           Passing Year : 2018\n",
            "\n",
            "\t\n",
            "\n",
            "\t\n",
            "\n",
            "SKILLS\n",
            "\n",
            "\n",
            "\n",
            "\tTechnical Skills    :\tC,C++,Python,HTML,CSS,JavaScript,Canva,NodeJS,Mongo DB,\n",
            "\n",
            "\t                                  Data Science , Basics of Deep Learning,Data Science and Algorithms                                        \n",
            "\n",
            "\tSoft Skills             :\tTime management,problem-solving,leadership(Class Representative and \n",
            "\n",
            "\t                                 DAPC  Member),Event Management (has organized many departmental \n",
            "\n",
            "\t                                 Meets and parties).\n",
            "\n",
            "\tOther Skills          :  Wrote different literary pieces.Have the written record of more than 300 literary pieces.\n",
            "\n",
            "\t\n",
            "\n",
            "\t\n",
            "\n",
            "\tPROJECTS\n",
            "\n",
            "\t\n",
            "\n",
            "\tONLINE CALCULATOR (WEB DEVELOPMENT )\n",
            "\n",
            "\t                       Built an online calculator having all basic mathematical calculation functions on Replit API using  \n",
            "\n",
            "\t                       HTML,CSS and JavaScript.\n",
            "\n",
            "\t\n",
            "\n",
            "\tPERSONAL PORFOLIO WEBSITE (WEB DEVELOPMENT)\n",
            "\n",
            "\t        Built a personal Portfolio website of self having all important informations including \n",
            "\n",
            "\t        profile,CV,Photo,Contacts using HTML,CSS,JavaScript .\n",
            "\n",
            "\t\n",
            "\n",
            "\tAUDIOBOOKS SALES ANALYTICS (MACHINE LEARNING)\n",
            "\n",
            "\t       Built a machine learning algorithm that can predict if a customer will buy again audiobooks from a  \n",
            "\n",
            "\t       particular store or not .\n",
            "\n",
            "\t       \n",
            "\n",
            "\t\n",
            "\n",
            "\tRELEVANT COURSES\n",
            "\n",
            "\tWeb Development Bootcamp\n",
            "\n",
            "\t(Udemy.com)\n",
            "\n",
            "\tData Science Bootcamp\n",
            "\n",
            "\t(Udemy.com)\n",
            "\n",
            "\tPython Pro Bootcamp\n",
            "\n",
            "\t(Udemy.com)\n",
            "\n",
            "\t\n",
            "\n",
            "\t\n",
            "\n",
            "  LEADERSHIP /EXPERIENCE\n",
            "\n",
            "\n",
            "\n",
            "Sub Coordinator,SYAHI(THE LITERARY CLUB OF IIT PATNA)\n",
            "\n",
            "Currently serving as the sub coordinator of the SYAHI which is the official literary club of IIT PATNA.\n",
            "\n",
            "Successfully organized many literary events such as Mehfil-e-Mushaira,The Unsent Letters,Movie Night,Treasure Hunt and many other offline and online literary events.\n",
            "\n",
            "(July 2022-Present)\n",
            "\n",
            "CLASS REPRESENTATIVE OF METALLURGICAL AND MATERIALS ENGINEERING 2021-25 BATCH\n",
            "\n",
            "Successfully managed the class of 32 students as the class representative of the class.\n",
            "\n",
            "(January 2022- Present)\n",
            "\n",
            "DAPC (Department Academic Program Committee) Member \n",
            "\n",
            "(August 2022 – Present)\n",
            "\n",
            "Sub Coordinator ,Materials Engineering Society (MatES)\n",
            "\n",
            "Coordinated in organizing many guest lectures.Also,coordinated in a quiz and exhibition conducted by\n",
            "\n",
            "MatES for the students of schools of Patna.\n",
            "\n",
            "(February 2023 – Present)\n",
            "\n",
            "\n",
            "\n",
            "\n",
            "\n",
            "\n",
            "\n",
            "EXTRA-CURRICULAR ACTIVITIES\n",
            "\n",
            "\tActively wrote poetries and various literary pieces.Also participated in various poetry competitions conducted in various colleges in different parts of the country.\n",
            "\n",
            "\tActive in various clubs including Literary,Dramatics,quizzing.\n",
            "\n",
            "\tPerformed hindi poetry in Inter IIT Cult Meet’23 . Stood 1st in the hindi story writing competition  organized in Anwesha’23.\n",
            "\n",
            "\tServed as a volunteer in various fests and programmes conducted in IIT Patna including Anwesha’23,Reverberance’22 ,Prom night’23,etc\n"
          ]
        }
      ]
    },
    {
      "cell_type": "code",
      "source": [
        "content = [job_description,resume]\n"
      ],
      "metadata": {
        "id": "Z9oWLZW1xccB"
      },
      "execution_count": null,
      "outputs": []
    },
    {
      "cell_type": "code",
      "source": [
        "from sklearn.feature_extraction.text import CountVectorizer"
      ],
      "metadata": {
        "id": "JzgYS0PpxlGC"
      },
      "execution_count": null,
      "outputs": []
    },
    {
      "cell_type": "code",
      "source": [
        "cv = CountVectorizer()"
      ],
      "metadata": {
        "id": "sVQrhA10xxAI"
      },
      "execution_count": null,
      "outputs": []
    },
    {
      "cell_type": "code",
      "source": [
        "matrix = cv.fit_transform(content)"
      ],
      "metadata": {
        "id": "FhlANYRVxzgd"
      },
      "execution_count": null,
      "outputs": []
    },
    {
      "cell_type": "code",
      "source": [
        "from sklearn.metrics.pairwise import cosine_similarity"
      ],
      "metadata": {
        "id": "GUpLzG0jx4V8"
      },
      "execution_count": null,
      "outputs": []
    },
    {
      "cell_type": "code",
      "source": [
        "similarity_matrix = cosine_similarity(matrix)"
      ],
      "metadata": {
        "id": "9QftWnn9yBTs"
      },
      "execution_count": null,
      "outputs": []
    },
    {
      "cell_type": "code",
      "source": [
        "print(similarity_matrix)"
      ],
      "metadata": {
        "colab": {
          "base_uri": "https://localhost:8080/"
        },
        "id": "i3uy3xpYySGE",
        "outputId": "8c66db65-051c-4fa4-8484-f2f9b5f666c4"
      },
      "execution_count": null,
      "outputs": [
        {
          "output_type": "stream",
          "name": "stdout",
          "text": [
            "[[1.         0.89787051]\n",
            " [0.89787051 1.        ]]\n"
          ]
        }
      ]
    },
    {
      "cell_type": "code",
      "source": [
        "print('Resume matches by:'+ str(similarity_matrix[1][0]*100)+'%')"
      ],
      "metadata": {
        "colab": {
          "base_uri": "https://localhost:8080/"
        },
        "id": "WjNh2tfsyVci",
        "outputId": "69a3b7cf-11af-4652-96dd-5a7084ff5ecf"
      },
      "execution_count": null,
      "outputs": [
        {
          "output_type": "stream",
          "name": "stdout",
          "text": [
            "Resume matches by:89.78705091045491%\n"
          ]
        }
      ]
    },
    {
      "cell_type": "code",
      "source": [],
      "metadata": {
        "id": "ahs8emdszaol"
      },
      "execution_count": null,
      "outputs": []
    }
  ]
}